{
 "cells": [
  {
   "cell_type": "markdown",
   "id": "0a238fa3",
   "metadata": {},
   "source": [
    "# 🧠 Customer Churn Prediction (Python Version)\n",
    "Machine learning implementation in Python using Decision Tree classifier to predict customer churn."
   ]
  },
  {
   "cell_type": "code",
   "execution_count": null,
   "id": "77b42dc1",
   "metadata": {},
   "outputs": [],
   "source": [
    "# Step 1: Import libraries\n",
    "import pandas as pd\n",
    "from sklearn.model_selection import train_test_split\n",
    "from sklearn.tree import DecisionTreeClassifier\n",
    "from sklearn.metrics import classification_report, confusion_matrix, accuracy_score\n",
    "import matplotlib.pyplot as plt\n",
    "import seaborn as sns"
   ]
  },
  {
   "cell_type": "code",
   "execution_count": null,
   "id": "5990c960",
   "metadata": {},
   "outputs": [],
   "source": [
    "# Step 2: Load and preview data\n",
    "df = pd.read_excel('customer-churn-data.xlsx')\n",
    "df.head()"
   ]
  },
  {
   "cell_type": "code",
   "execution_count": null,
   "id": "b398486f",
   "metadata": {},
   "outputs": [],
   "source": [
    "# Step 3: Separate features and target before encoding\n",
    "df = df.dropna()\n",
    "X = df.drop('Churn', axis=1)\n",
    "y = df['Churn']\n",
    "X = pd.get_dummies(X, drop_first=True)"
   ]
  },
  {
   "cell_type": "code",
   "execution_count": null,
   "id": "1cb0773e",
   "metadata": {},
   "outputs": [],
   "source": [
    "# Step 4: Train-test split\n",
    "X_train, X_test, y_train, y_test = train_test_split(X, y, test_size=0.3, random_state=42)"
   ]
  },
  {
   "cell_type": "code",
   "execution_count": null,
   "id": "dc6afa60",
   "metadata": {},
   "outputs": [],
   "source": [
    "# Step 5: Train Decision Tree model\n",
    "model = DecisionTreeClassifier(random_state=42)\n",
    "model.fit(X_train, y_train)"
   ]
  },
  {
   "cell_type": "code",
   "execution_count": null,
   "id": "06c1bbbe",
   "metadata": {},
   "outputs": [],
   "source": [
    "# Step 6: Evaluate model\n",
    "y_pred = model.predict(X_test)\n",
    "print('Accuracy:', accuracy_score(y_test, y_pred))\n",
    "print('Confusion Matrix:\\n', confusion_matrix(y_test, y_pred))\n",
    "print('Classification Report:\\n', classification_report(y_test, y_pred))"
   ]
  },
  {
   "cell_type": "code",
   "execution_count": null,
   "id": "57bbb990",
   "metadata": {},
   "outputs": [],
   "source": [
    "# Step 7: Feature importance plot\n",
    "importances = model.feature_importances_\n",
    "features = X.columns\n",
    "sns.barplot(x=importances, y=features)\n",
    "plt.title('Feature Importances')\n",
    "plt.tight_layout()\n",
    "plt.show()"
   ]
  }
 ],
 "metadata": {},
 "nbformat": 4,
 "nbformat_minor": 5
}
